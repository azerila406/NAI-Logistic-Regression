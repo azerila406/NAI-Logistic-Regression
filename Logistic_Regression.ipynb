{
  "nbformat": 4,
  "nbformat_minor": 0,
  "metadata": {
    "colab": {
      "provenance": []
    },
    "kernelspec": {
      "name": "python3",
      "display_name": "Python 3"
    },
    "language_info": {
      "name": "python"
    }
  },
  "cells": [
    {
      "cell_type": "markdown",
      "source": [
        "# Logisitic Regression\n",
        "---\n",
        "\n",
        "\n"
      ],
      "metadata": {
        "id": "1xVPScmI7YRO"
      }
    },
    {
      "cell_type": "code",
      "source": [
        "import numpy as np"
      ],
      "metadata": {
        "id": "FiuC7cU3Wlbm"
      },
      "execution_count": 1,
      "outputs": []
    },
    {
      "cell_type": "code",
      "source": [
        "from sklearn import datasets\n",
        "iris_dataset = datasets.load_iris()\n",
        "iris_dataset"
      ],
      "metadata": {
        "id": "OL4v_9MWNjV8",
        "colab": {
          "base_uri": "https://localhost:8080/"
        },
        "outputId": "9814f742-a93a-47d3-a67c-11aa7663f701"
      },
      "execution_count": 2,
      "outputs": [
        {
          "output_type": "execute_result",
          "data": {
            "text/plain": [
              "{'data': array([[5.1, 3.5, 1.4, 0.2],\n",
              "        [4.9, 3. , 1.4, 0.2],\n",
              "        [4.7, 3.2, 1.3, 0.2],\n",
              "        [4.6, 3.1, 1.5, 0.2],\n",
              "        [5. , 3.6, 1.4, 0.2],\n",
              "        [5.4, 3.9, 1.7, 0.4],\n",
              "        [4.6, 3.4, 1.4, 0.3],\n",
              "        [5. , 3.4, 1.5, 0.2],\n",
              "        [4.4, 2.9, 1.4, 0.2],\n",
              "        [4.9, 3.1, 1.5, 0.1],\n",
              "        [5.4, 3.7, 1.5, 0.2],\n",
              "        [4.8, 3.4, 1.6, 0.2],\n",
              "        [4.8, 3. , 1.4, 0.1],\n",
              "        [4.3, 3. , 1.1, 0.1],\n",
              "        [5.8, 4. , 1.2, 0.2],\n",
              "        [5.7, 4.4, 1.5, 0.4],\n",
              "        [5.4, 3.9, 1.3, 0.4],\n",
              "        [5.1, 3.5, 1.4, 0.3],\n",
              "        [5.7, 3.8, 1.7, 0.3],\n",
              "        [5.1, 3.8, 1.5, 0.3],\n",
              "        [5.4, 3.4, 1.7, 0.2],\n",
              "        [5.1, 3.7, 1.5, 0.4],\n",
              "        [4.6, 3.6, 1. , 0.2],\n",
              "        [5.1, 3.3, 1.7, 0.5],\n",
              "        [4.8, 3.4, 1.9, 0.2],\n",
              "        [5. , 3. , 1.6, 0.2],\n",
              "        [5. , 3.4, 1.6, 0.4],\n",
              "        [5.2, 3.5, 1.5, 0.2],\n",
              "        [5.2, 3.4, 1.4, 0.2],\n",
              "        [4.7, 3.2, 1.6, 0.2],\n",
              "        [4.8, 3.1, 1.6, 0.2],\n",
              "        [5.4, 3.4, 1.5, 0.4],\n",
              "        [5.2, 4.1, 1.5, 0.1],\n",
              "        [5.5, 4.2, 1.4, 0.2],\n",
              "        [4.9, 3.1, 1.5, 0.2],\n",
              "        [5. , 3.2, 1.2, 0.2],\n",
              "        [5.5, 3.5, 1.3, 0.2],\n",
              "        [4.9, 3.6, 1.4, 0.1],\n",
              "        [4.4, 3. , 1.3, 0.2],\n",
              "        [5.1, 3.4, 1.5, 0.2],\n",
              "        [5. , 3.5, 1.3, 0.3],\n",
              "        [4.5, 2.3, 1.3, 0.3],\n",
              "        [4.4, 3.2, 1.3, 0.2],\n",
              "        [5. , 3.5, 1.6, 0.6],\n",
              "        [5.1, 3.8, 1.9, 0.4],\n",
              "        [4.8, 3. , 1.4, 0.3],\n",
              "        [5.1, 3.8, 1.6, 0.2],\n",
              "        [4.6, 3.2, 1.4, 0.2],\n",
              "        [5.3, 3.7, 1.5, 0.2],\n",
              "        [5. , 3.3, 1.4, 0.2],\n",
              "        [7. , 3.2, 4.7, 1.4],\n",
              "        [6.4, 3.2, 4.5, 1.5],\n",
              "        [6.9, 3.1, 4.9, 1.5],\n",
              "        [5.5, 2.3, 4. , 1.3],\n",
              "        [6.5, 2.8, 4.6, 1.5],\n",
              "        [5.7, 2.8, 4.5, 1.3],\n",
              "        [6.3, 3.3, 4.7, 1.6],\n",
              "        [4.9, 2.4, 3.3, 1. ],\n",
              "        [6.6, 2.9, 4.6, 1.3],\n",
              "        [5.2, 2.7, 3.9, 1.4],\n",
              "        [5. , 2. , 3.5, 1. ],\n",
              "        [5.9, 3. , 4.2, 1.5],\n",
              "        [6. , 2.2, 4. , 1. ],\n",
              "        [6.1, 2.9, 4.7, 1.4],\n",
              "        [5.6, 2.9, 3.6, 1.3],\n",
              "        [6.7, 3.1, 4.4, 1.4],\n",
              "        [5.6, 3. , 4.5, 1.5],\n",
              "        [5.8, 2.7, 4.1, 1. ],\n",
              "        [6.2, 2.2, 4.5, 1.5],\n",
              "        [5.6, 2.5, 3.9, 1.1],\n",
              "        [5.9, 3.2, 4.8, 1.8],\n",
              "        [6.1, 2.8, 4. , 1.3],\n",
              "        [6.3, 2.5, 4.9, 1.5],\n",
              "        [6.1, 2.8, 4.7, 1.2],\n",
              "        [6.4, 2.9, 4.3, 1.3],\n",
              "        [6.6, 3. , 4.4, 1.4],\n",
              "        [6.8, 2.8, 4.8, 1.4],\n",
              "        [6.7, 3. , 5. , 1.7],\n",
              "        [6. , 2.9, 4.5, 1.5],\n",
              "        [5.7, 2.6, 3.5, 1. ],\n",
              "        [5.5, 2.4, 3.8, 1.1],\n",
              "        [5.5, 2.4, 3.7, 1. ],\n",
              "        [5.8, 2.7, 3.9, 1.2],\n",
              "        [6. , 2.7, 5.1, 1.6],\n",
              "        [5.4, 3. , 4.5, 1.5],\n",
              "        [6. , 3.4, 4.5, 1.6],\n",
              "        [6.7, 3.1, 4.7, 1.5],\n",
              "        [6.3, 2.3, 4.4, 1.3],\n",
              "        [5.6, 3. , 4.1, 1.3],\n",
              "        [5.5, 2.5, 4. , 1.3],\n",
              "        [5.5, 2.6, 4.4, 1.2],\n",
              "        [6.1, 3. , 4.6, 1.4],\n",
              "        [5.8, 2.6, 4. , 1.2],\n",
              "        [5. , 2.3, 3.3, 1. ],\n",
              "        [5.6, 2.7, 4.2, 1.3],\n",
              "        [5.7, 3. , 4.2, 1.2],\n",
              "        [5.7, 2.9, 4.2, 1.3],\n",
              "        [6.2, 2.9, 4.3, 1.3],\n",
              "        [5.1, 2.5, 3. , 1.1],\n",
              "        [5.7, 2.8, 4.1, 1.3],\n",
              "        [6.3, 3.3, 6. , 2.5],\n",
              "        [5.8, 2.7, 5.1, 1.9],\n",
              "        [7.1, 3. , 5.9, 2.1],\n",
              "        [6.3, 2.9, 5.6, 1.8],\n",
              "        [6.5, 3. , 5.8, 2.2],\n",
              "        [7.6, 3. , 6.6, 2.1],\n",
              "        [4.9, 2.5, 4.5, 1.7],\n",
              "        [7.3, 2.9, 6.3, 1.8],\n",
              "        [6.7, 2.5, 5.8, 1.8],\n",
              "        [7.2, 3.6, 6.1, 2.5],\n",
              "        [6.5, 3.2, 5.1, 2. ],\n",
              "        [6.4, 2.7, 5.3, 1.9],\n",
              "        [6.8, 3. , 5.5, 2.1],\n",
              "        [5.7, 2.5, 5. , 2. ],\n",
              "        [5.8, 2.8, 5.1, 2.4],\n",
              "        [6.4, 3.2, 5.3, 2.3],\n",
              "        [6.5, 3. , 5.5, 1.8],\n",
              "        [7.7, 3.8, 6.7, 2.2],\n",
              "        [7.7, 2.6, 6.9, 2.3],\n",
              "        [6. , 2.2, 5. , 1.5],\n",
              "        [6.9, 3.2, 5.7, 2.3],\n",
              "        [5.6, 2.8, 4.9, 2. ],\n",
              "        [7.7, 2.8, 6.7, 2. ],\n",
              "        [6.3, 2.7, 4.9, 1.8],\n",
              "        [6.7, 3.3, 5.7, 2.1],\n",
              "        [7.2, 3.2, 6. , 1.8],\n",
              "        [6.2, 2.8, 4.8, 1.8],\n",
              "        [6.1, 3. , 4.9, 1.8],\n",
              "        [6.4, 2.8, 5.6, 2.1],\n",
              "        [7.2, 3. , 5.8, 1.6],\n",
              "        [7.4, 2.8, 6.1, 1.9],\n",
              "        [7.9, 3.8, 6.4, 2. ],\n",
              "        [6.4, 2.8, 5.6, 2.2],\n",
              "        [6.3, 2.8, 5.1, 1.5],\n",
              "        [6.1, 2.6, 5.6, 1.4],\n",
              "        [7.7, 3. , 6.1, 2.3],\n",
              "        [6.3, 3.4, 5.6, 2.4],\n",
              "        [6.4, 3.1, 5.5, 1.8],\n",
              "        [6. , 3. , 4.8, 1.8],\n",
              "        [6.9, 3.1, 5.4, 2.1],\n",
              "        [6.7, 3.1, 5.6, 2.4],\n",
              "        [6.9, 3.1, 5.1, 2.3],\n",
              "        [5.8, 2.7, 5.1, 1.9],\n",
              "        [6.8, 3.2, 5.9, 2.3],\n",
              "        [6.7, 3.3, 5.7, 2.5],\n",
              "        [6.7, 3. , 5.2, 2.3],\n",
              "        [6.3, 2.5, 5. , 1.9],\n",
              "        [6.5, 3. , 5.2, 2. ],\n",
              "        [6.2, 3.4, 5.4, 2.3],\n",
              "        [5.9, 3. , 5.1, 1.8]]),\n",
              " 'target': array([0, 0, 0, 0, 0, 0, 0, 0, 0, 0, 0, 0, 0, 0, 0, 0, 0, 0, 0, 0, 0, 0,\n",
              "        0, 0, 0, 0, 0, 0, 0, 0, 0, 0, 0, 0, 0, 0, 0, 0, 0, 0, 0, 0, 0, 0,\n",
              "        0, 0, 0, 0, 0, 0, 1, 1, 1, 1, 1, 1, 1, 1, 1, 1, 1, 1, 1, 1, 1, 1,\n",
              "        1, 1, 1, 1, 1, 1, 1, 1, 1, 1, 1, 1, 1, 1, 1, 1, 1, 1, 1, 1, 1, 1,\n",
              "        1, 1, 1, 1, 1, 1, 1, 1, 1, 1, 1, 1, 2, 2, 2, 2, 2, 2, 2, 2, 2, 2,\n",
              "        2, 2, 2, 2, 2, 2, 2, 2, 2, 2, 2, 2, 2, 2, 2, 2, 2, 2, 2, 2, 2, 2,\n",
              "        2, 2, 2, 2, 2, 2, 2, 2, 2, 2, 2, 2, 2, 2, 2, 2, 2, 2]),\n",
              " 'frame': None,\n",
              " 'target_names': array(['setosa', 'versicolor', 'virginica'], dtype='<U10'),\n",
              " 'DESCR': '.. _iris_dataset:\\n\\nIris plants dataset\\n--------------------\\n\\n**Data Set Characteristics:**\\n\\n:Number of Instances: 150 (50 in each of three classes)\\n:Number of Attributes: 4 numeric, predictive attributes and the class\\n:Attribute Information:\\n    - sepal length in cm\\n    - sepal width in cm\\n    - petal length in cm\\n    - petal width in cm\\n    - class:\\n            - Iris-Setosa\\n            - Iris-Versicolour\\n            - Iris-Virginica\\n\\n:Summary Statistics:\\n\\n============== ==== ==== ======= ===== ====================\\n                Min  Max   Mean    SD   Class Correlation\\n============== ==== ==== ======= ===== ====================\\nsepal length:   4.3  7.9   5.84   0.83    0.7826\\nsepal width:    2.0  4.4   3.05   0.43   -0.4194\\npetal length:   1.0  6.9   3.76   1.76    0.9490  (high!)\\npetal width:    0.1  2.5   1.20   0.76    0.9565  (high!)\\n============== ==== ==== ======= ===== ====================\\n\\n:Missing Attribute Values: None\\n:Class Distribution: 33.3% for each of 3 classes.\\n:Creator: R.A. Fisher\\n:Donor: Michael Marshall (MARSHALL%PLU@io.arc.nasa.gov)\\n:Date: July, 1988\\n\\nThe famous Iris database, first used by Sir R.A. Fisher. The dataset is taken\\nfrom Fisher\\'s paper. Note that it\\'s the same as in R, but not as in the UCI\\nMachine Learning Repository, which has two wrong data points.\\n\\nThis is perhaps the best known database to be found in the\\npattern recognition literature.  Fisher\\'s paper is a classic in the field and\\nis referenced frequently to this day.  (See Duda & Hart, for example.)  The\\ndata set contains 3 classes of 50 instances each, where each class refers to a\\ntype of iris plant.  One class is linearly separable from the other 2; the\\nlatter are NOT linearly separable from each other.\\n\\n.. dropdown:: References\\n\\n  - Fisher, R.A. \"The use of multiple measurements in taxonomic problems\"\\n    Annual Eugenics, 7, Part II, 179-188 (1936); also in \"Contributions to\\n    Mathematical Statistics\" (John Wiley, NY, 1950).\\n  - Duda, R.O., & Hart, P.E. (1973) Pattern Classification and Scene Analysis.\\n    (Q327.D83) John Wiley & Sons.  ISBN 0-471-22361-1.  See page 218.\\n  - Dasarathy, B.V. (1980) \"Nosing Around the Neighborhood: A New System\\n    Structure and Classification Rule for Recognition in Partially Exposed\\n    Environments\".  IEEE Transactions on Pattern Analysis and Machine\\n    Intelligence, Vol. PAMI-2, No. 1, 67-71.\\n  - Gates, G.W. (1972) \"The Reduced Nearest Neighbor Rule\".  IEEE Transactions\\n    on Information Theory, May 1972, 431-433.\\n  - See also: 1988 MLC Proceedings, 54-64.  Cheeseman et al\"s AUTOCLASS II\\n    conceptual clustering system finds 3 classes in the data.\\n  - Many, many more ...\\n',\n",
              " 'feature_names': ['sepal length (cm)',\n",
              "  'sepal width (cm)',\n",
              "  'petal length (cm)',\n",
              "  'petal width (cm)'],\n",
              " 'filename': 'iris.csv',\n",
              " 'data_module': 'sklearn.datasets.data'}"
            ]
          },
          "metadata": {},
          "execution_count": 2
        }
      ]
    },
    {
      "cell_type": "markdown",
      "source": [
        "## A) Train/Test Split\n",
        "\n",
        "<div dir='rtl'>\n",
        "\n",
        "در این بخش شما باید مجمموعه ی داده را به دو بخش آموزش و ارزیابی  تقسیم کنید. ۸۰ درصد داده‌ها را برای آموزش و باقی را برای ارزیابی بگذارید.\n",
        "فراموش نکنید که قبل از تقسیم داده آن‌ها را بر بزنید.\n",
        "\n",
        "</div>"
      ],
      "metadata": {
        "id": "CUYPWba4-FuV"
      }
    },
    {
      "cell_type": "code",
      "source": [
        "np.random.seed(888)"
      ],
      "metadata": {
        "id": "I3d33i8yl3Js"
      },
      "execution_count": 3,
      "outputs": []
    },
    {
      "cell_type": "code",
      "source": [
        "x = iris_dataset.data\n",
        "y = iris_dataset.target\n",
        "train_ratio = 0.8"
      ],
      "metadata": {
        "id": "SMounA0M9acv"
      },
      "execution_count": 4,
      "outputs": []
    },
    {
      "cell_type": "code",
      "source": [
        "##################\n",
        "# Train/Test Split\n",
        "##################\n",
        "x_train, y_train = None, None\n",
        "x_test, y_test = None, None\n",
        "## Your Code Starts Here ##\n",
        "a = np.random.permutation(x.shape[0])\n",
        "x = x[a]\n",
        "y = y[a]\n",
        "train_sz = int(0.8 * x.shape[0])\n",
        "x_train = x[:train_sz]\n",
        "x_test = x[train_sz:]\n",
        "y_train = y[:train_sz]\n",
        "y_test = y[train_sz:]\n",
        "#x_train.shape, y_train.shape, x_test.shape, y_train.shape\n",
        "## Your Code Ends Here ##"
      ],
      "metadata": {
        "id": "o4Y_iR-s-XgL"
      },
      "execution_count": 5,
      "outputs": []
    },
    {
      "cell_type": "markdown",
      "source": [
        "## B) Softmax\n",
        "\n",
        "<div dir='rtl'>\n",
        "\n",
        "در این بخش از شما خواسته شده تابع\n",
        "softmax\n",
        "را پیاده‌سازی کنید. از این تابع برای محاسبه‌ی احتمال پیش‌بینی شده برای هر کلاس استفاده می‌شود.\n",
        "\n",
        "$$\n",
        "softmax(v) = \\frac{1}{\\sum_{k=1}^{K} e^{v_k}}\n",
        "\\begin{bmatrix}\n",
        "e^{v_1} \\\\\n",
        "e^{v_2} \\\\\n",
        "... \\\\\n",
        "e^{v_k}\n",
        "\\end{bmatrix}\n",
        "$$\n",
        "\n",
        "که در رابطه‌ی بالا\n",
        "K\n",
        "تعداد کلاس‌هاست و\n",
        "$v_k = w_k^Tx$\n",
        "</div>"
      ],
      "metadata": {
        "id": "_-3mzUlRAaoF"
      }
    },
    {
      "cell_type": "code",
      "source": [
        "##################\n",
        "# Softmax Function\n",
        "##################\n",
        "# X is  (N, d + 1) where d is number of features (one for bias) and n is number of data .\n",
        "# W is (d + 1, K) where d is number of features (one for bias) and K is number of classes.\n",
        "def softmax(X, W):\n",
        "  preds = None\n",
        "  ## Your Code Starts Here ##\n",
        "  K = W.shape[1]\n",
        "  N = X.shape[0]\n",
        "  preds = np.zeros((N, K))\n",
        "\n",
        "  for j in range(N):\n",
        "    preds[j] = (W.T) @ X[j]\n",
        "    preds[j] = np.exp(preds[j])\n",
        "\n",
        "    S = preds[j].sum()\n",
        "    preds[j] /= S\n",
        "  ## Your Code Ends Here ##\n",
        "  return preds"
      ],
      "metadata": {
        "id": "kWjHdVFUATVR"
      },
      "execution_count": 6,
      "outputs": []
    },
    {
      "cell_type": "markdown",
      "source": [
        "## C) Predictions\n",
        "\n",
        "<div dir='rtl'>\n",
        "  \n",
        "در این بخش به دنبال پیاده‌سازی تابعی هستیم که با گرفتن احتمال‌های پیش‌بینی شده بازای هر کلاس، کلاسی را که داده‌ به آن تعلق دارد پیش‌بینی کند.\n",
        "\n",
        "</div>"
      ],
      "metadata": {
        "id": "xgaqgnl_3BNn"
      }
    },
    {
      "cell_type": "code",
      "source": [
        "#####################\n",
        "# Prediction Function\n",
        "#####################\n",
        "# preds: predicted probabilities (N, K)\n",
        "def return_predicted_classes(preds):\n",
        "  predicted_y = None\n",
        "  ## Your Code Starts Here ##\n",
        "  N = preds.shape[0]\n",
        "  K = preds.shape[1]\n",
        "  predicted_y = preds.argmax(axis=1)\n",
        "  ## Your Code Ends Here ##\n",
        "  return predicted_y"
      ],
      "metadata": {
        "id": "N7UEo0rRyOGu"
      },
      "execution_count": 7,
      "outputs": []
    },
    {
      "cell_type": "markdown",
      "source": [
        "## C) Loss Function\n",
        "\n",
        "<div dir='rtl'>\n",
        "\n",
        "در گام بعد با داشتن احتمال تعلق هر داده به هر کلاس از طریق تابع\n",
        "softmax\n",
        "به دنبال محاسبه‌ی تابع هزینه هستیم.\n",
        "\n",
        "$$\n",
        "loss(X, Y;w) = - \\sum_{i=1}^N \\sum_{k=1}^K \\mathbb{I}[y_i = k]\\; log \\frac{e^{w_k^Tx}}{\\sum_{j=1}^K e^{w_j^Tx}}\n",
        "$$\n",
        "\n",
        "</div>"
      ],
      "metadata": {
        "id": "uH9pu8BlJ-P0"
      }
    },
    {
      "cell_type": "code",
      "source": [
        "###############\n",
        "# Loss function\n",
        "###############\n",
        "# y: (N)\n",
        "# preds: class probabilities (N, K)\n",
        "def logistic_loss(y, preds):\n",
        "  loss = None\n",
        "  ## Your Code Starts Here ##\n",
        "  loss = 0\n",
        "  N = y.shape[0]\n",
        "  K = preds.shape[1]\n",
        "  for i in range(N):\n",
        "    loss -= np.log(preds[i][y[i]])\n",
        "    #for k in range(K):\n",
        "      #if (y[i] == k):\n",
        "        #loss += np.log(preds[i][k])\n",
        "  loss /= y.shape[0]\n",
        "  ## Your Code Ends Here ##\n",
        "  return loss"
      ],
      "metadata": {
        "id": "FJggVgKPEaa6"
      },
      "execution_count": 8,
      "outputs": []
    },
    {
      "cell_type": "markdown",
      "source": [
        "## D) Weight Updates\n",
        "\n",
        "<div dir='rtl'>\n",
        "\n",
        "در این بخش باید رابطه‌ی بروزرسانی وزن‌ها در لاجستیک رگرشن را پیاده‌سازی کنید. این رابطه برای وزن کلاس kام\n",
        "$w_k$\n",
        "به صورت زیر است.\n",
        "\n",
        "$$\n",
        "w_k \\leftarrow w_k - \\alpha (\\hat{y_i} - y_i) x_i\n",
        "$$\n",
        "\n",
        "که در آن\n",
        "$\\alpha$\n",
        "نرخ یادگیری ،\n",
        "$\\hat{y_i}$\n",
        "مقدار احتمال پیش‌بینی برای داده‌ی iام\n",
        "و\n",
        "$x_i$\n",
        "داده‌ی iام هستند.\n",
        "\n",
        "راهنمایی: فراموش نکنید که باید از میانگین گرادیان روی همه‌ی داده‌ها استفاده کنید.\n",
        "\n",
        "</div>"
      ],
      "metadata": {
        "id": "wTW_RTYkVcUR"
      }
    },
    {
      "cell_type": "code",
      "source": [
        "#####################################\n",
        "# Implementing weight update function\n",
        "#####################################\n",
        "# W: (d+1, K)\n",
        "# X: (N, d+1)\n",
        "# y: (N, 1)\n",
        "# preds: predicted probability for each class (N, K)\n",
        "# alpha: learning rate\n",
        "def update_weights(W, X, y, preds, alpha):\n",
        "  new_W = None\n",
        "  ## Your Code Starts Here ##\n",
        "  new_W = W.T.copy()\n",
        "  N = X.shape[0]\n",
        "  K = W.shape[1]\n",
        "  for i in range(N):\n",
        "   for k in range(K):\n",
        "      y_ki = (y[i] == k)\n",
        "      new_W[k] -= alpha * (preds[i][k] - y_ki) * X[i] / N\n",
        "  new_W = new_W.T\n",
        "  ## Your Code Ends Here ##\n",
        "  return new_W"
      ],
      "metadata": {
        "id": "0DBFtmZLL-uU"
      },
      "execution_count": 9,
      "outputs": []
    },
    {
      "cell_type": "markdown",
      "source": [
        "## E) Logistic Regression\n",
        "\n",
        "<div dir='rtl'>\n",
        "\n",
        "در این بخش شما باید الگوریتم لاجستیگ رگرشن را بوسیله‌ی توابعی که در بخش‌های پیشین پیاده‌سازی کردید، پیاده‌سازی کنید.\n",
        "\n",
        "دقت کنید که موارد زیر را حتما خروجی دهید:\n",
        "\n",
        "1. میزان تابع هزینه بازای هر ایپاک بر روی داده‌ی آموزش و تست\n",
        "2. خروجی نهایی مدل روی داده‌ی آموزش و تست\n",
        "\n",
        "</div>"
      ],
      "metadata": {
        "id": "eU02eZm85HKN"
      }
    },
    {
      "cell_type": "code",
      "source": [
        "##############################\n",
        "# Logistic Regression Function\n",
        "##############################\n",
        "# your output should include:\n",
        "# 1. train/test losses during training\n",
        "# 2. final predictions on train/test sets\n",
        "def logistic_regression(x_train, y_train, x_test, y_test,  n_classes, n_iteration, alpha):\n",
        "  train_losses, test_losses = None, None\n",
        "  train_preds, test_preds = None, None\n",
        "  ## Your Code Starts Here ##\n",
        "  train_losses = np.array([])\n",
        "  test_losses = np.array([])\n",
        "\n",
        "  K = n_classes\n",
        "  W = np.zeros((x_train.shape[1] + 1, K))\n",
        "  N = x_train.shape[0]\n",
        "\n",
        "  x_train = np.hstack((x_train, np.ones(x_train.shape[0])[:, np.newaxis]))\n",
        "  x_test = np.hstack((x_test, np.ones(x_test.shape[0])[:, np.newaxis]))\n",
        "\n",
        "  for t in range(n_iters):\n",
        "    preds = softmax(x_train, W)\n",
        "    W = update_weights(W, x_train, y_train, preds, alpha)\n",
        "\n",
        "    test_losses = np.append(test_losses, logistic_loss(y_test, softmax(x_test, W)))\n",
        "    train_losses = np.append(train_losses, logistic_loss(y_train, softmax(x_train, W)))\n",
        "\n",
        "  train_preds = return_predicted_classes(softmax(x_train, W))\n",
        "  test_preds = return_predicted_classes(softmax(x_test, W))\n",
        "\n",
        "  ## Your Code Ends Here ##\n",
        "  return train_losses, test_losses, train_preds, test_preds"
      ],
      "metadata": {
        "id": "GbweiyF0Me5E"
      },
      "execution_count": 10,
      "outputs": []
    },
    {
      "cell_type": "code",
      "source": [
        "##########################\n",
        "# Run logistic Regression\n",
        "#########################\n",
        "# if you implement the code efficiently it should not take more than\n",
        "# a second to run!\n",
        "n_classes = 3\n",
        "#n_iters = 10000\n",
        "n_iters = 1000\n",
        "\n",
        "alpha = 0.01\n",
        "\n",
        "train_losses, test_losses, train_preds, test_preds = logistic_regression(\n",
        "    x_train,\n",
        "    y_train,\n",
        "    x_test,\n",
        "    y_test,\n",
        "    n_classes,\n",
        "    n_iters,\n",
        "    alpha\n",
        ")"
      ],
      "metadata": {
        "id": "4kYX4s1rxl5o"
      },
      "execution_count": 11,
      "outputs": []
    },
    {
      "cell_type": "markdown",
      "source": [
        "## F) Plot train/test losses"
      ],
      "metadata": {
        "id": "sLkQpy9P62hZ"
      }
    },
    {
      "cell_type": "code",
      "source": [
        "########################\n",
        "# Plot train/test losses\n",
        "########################\n",
        "\n",
        "from matplotlib import pyplot as plt\n",
        "\n",
        "## Your Code Starts Here ##\n",
        "plt.plot(train_losses, label='train')\n",
        "plt.plot(test_losses, label='test')\n",
        "plt.legend()\n",
        "## Your Code Ends Here ##"
      ],
      "metadata": {
        "id": "VHf93AdbpQ3T",
        "colab": {
          "base_uri": "https://localhost:8080/",
          "height": 448
        },
        "outputId": "5384fd78-b95b-4fd0-f935-6837d0b12478"
      },
      "execution_count": 12,
      "outputs": [
        {
          "output_type": "execute_result",
          "data": {
            "text/plain": [
              "<matplotlib.legend.Legend at 0x7efb6fbbcd50>"
            ]
          },
          "metadata": {},
          "execution_count": 12
        },
        {
          "output_type": "display_data",
          "data": {
            "text/plain": [
              "<Figure size 640x480 with 1 Axes>"
            ],
            "image/png": "[encoded data removed]"
          },
          "metadata": {}
        }
      ]
    },
    {
      "cell_type": "markdown",
      "source": [
        "## G) Train/Test Accuracy"
      ],
      "metadata": {
        "id": "VNOqAhvM7D0_"
      }
    },
    {
      "cell_type": "code",
      "source": [
        "###########################\n",
        "# print train/test accuracy\n",
        "###########################\n",
        "## Your Code Starts Here ##\n",
        "def acc(y_hat, y):\n",
        "  return np.mean(y_hat == y)\n",
        "  #y_dif = y_hat != y\n",
        "  #return 1.0 - y_dif.sum() / y.size\n",
        "print(acc(train_preds, y_train))\n",
        "print(acc(test_preds, y_test))\n",
        "\n",
        "## Your Code Ends Here ##"
      ],
      "metadata": {
        "id": "gEIQnIuXxjyL",
        "colab": {
          "base_uri": "https://localhost:8080/"
        },
        "outputId": "e00cfaec-d541-4489-b9ea-d16535789caa"
      },
      "execution_count": 13,
      "outputs": [
        {
          "output_type": "stream",
          "name": "stdout",
          "text": [
            "0.975\n",
            "0.9666666666666667\n"
          ]
        }
      ]
    },
    {
      "cell_type": "markdown",
      "source": [
        "## H) Confusion Matrix\n",
        "\n",
        "<div dir='rtl'>\n",
        "\n",
        "در این بخش از شما می‌خواهیم تا ماتریس درهم‌ریختگی را برای پیش‌بینی‌های مدل خود بدست آورید.\n",
        "\n",
        "</div>"
      ],
      "metadata": {
        "id": "hSYVvHZz7IVp"
      }
    },
    {
      "cell_type": "code",
      "source": [
        "##################\n",
        "# Confusion Matrix\n",
        "##################\n",
        "# preds: predicted classes (N,)\n",
        "# true: labels (N,)\n",
        "def get_confusion_matrix(preds, true):\n",
        "  confusion_matrix = None\n",
        "  ## Your Code Starts Here ##\n",
        "\n",
        "  confusion_matrix = np.zeros((3, 3))\n",
        "  N = preds.shape[0]\n",
        "  for i in range(N):\n",
        "    confusion_matrix[int(preds[i])][int(true[i])] += 1\n",
        "  ## Your Code Ends Here ##\n",
        "  return confusion_matrix"
      ],
      "metadata": {
        "id": "tWWZL6a3zH2k"
      },
      "execution_count": 14,
      "outputs": []
    },
    {
      "cell_type": "code",
      "source": [
        "#####################################\n",
        "# Print Train/Test Confusion Matrices\n",
        "#####################################\n",
        "## Your Code Starts Here ##\n",
        "print(get_confusion_matrix(train_preds, y_train))\n",
        "print(get_confusion_matrix(test_preds, y_test))\n",
        "\n",
        "## Your Code Ends Here ##"
      ],
      "metadata": {
        "id": "3Hmws0IU1TQg",
        "colab": {
          "base_uri": "https://localhost:8080/"
        },
        "outputId": "43ea8e79-1ba2-4377-c99a-93a599369df5"
      },
      "execution_count": 15,
      "outputs": [
        {
          "output_type": "stream",
          "name": "stdout",
          "text": [
            "[[40.  0.  0.]\n",
            " [ 0. 40.  0.]\n",
            " [ 0.  3. 37.]]\n",
            "[[10.  0.  0.]\n",
            " [ 0.  7.  1.]\n",
            " [ 0.  0. 12.]]\n"
          ]
        }
      ]
    },
    {
      "cell_type": "markdown",
      "source": [
        "## Scikit Learn Version\n",
        "\n",
        "<div dir='rtl'>\n",
        "\n",
        "\n",
        "</div>"
      ],
      "metadata": {
        "id": "rPPtxyevmi0r"
      }
    },
    {
      "cell_type": "markdown",
      "source": [
        "Define Model"
      ],
      "metadata": {
        "id": "WMd0ru_nnf2N"
      }
    },
    {
      "cell_type": "code",
      "source": [
        "from sklearn.linear_model import LogisticRegression\n",
        "model = LogisticRegression();"
      ],
      "metadata": {
        "id": "42kqEbmOmiJu"
      },
      "execution_count": 16,
      "outputs": []
    },
    {
      "cell_type": "markdown",
      "source": [
        "Train Model"
      ],
      "metadata": {
        "id": "sBx99irHnmjn"
      }
    },
    {
      "cell_type": "code",
      "source": [
        "model.fit(x_train, y_train)"
      ],
      "metadata": {
        "colab": {
          "base_uri": "https://localhost:8080/",
          "height": 79
        },
        "id": "zNjrvXUDnfVQ",
        "outputId": "0e5f7174-f7e9-4991-d77b-eccfaeaa98f1"
      },
      "execution_count": 17,
      "outputs": [
        {
          "output_type": "execute_result",
          "data": {
            "text/plain": [
              "LogisticRegression()"
            ],
            "text/html": [
              "<style>#sk-container-id-1 {\n",
              "  /* Definition of color scheme common for light and dark mode */\n",
              "  --sklearn-color-text: #000;\n",
              "  --sklearn-color-text-muted: #666;\n",
              "  --sklearn-color-line: gray;\n",
              "  /* Definition of color scheme for unfitted estimators */\n",
              "  --sklearn-color-unfitted-level-0: #fff5e6;\n",
              "  --sklearn-color-unfitted-level-1: #f6e4d2;\n",
              "  --sklearn-color-unfitted-level-2: #ffe0b3;\n",
              "  --sklearn-color-unfitted-level-3: chocolate;\n",
              "  /* Definition of color scheme for fitted estimators */\n",
              "  --sklearn-color-fitted-level-0: #f0f8ff;\n",
              "  --sklearn-color-fitted-level-1: #d4ebff;\n",
              "  --sklearn-color-fitted-level-2: #b3dbfd;\n",
              "  --sklearn-color-fitted-level-3: cornflowerblue;\n",
              "\n",
              "  /* Specific color for light theme */\n",
              "  --sklearn-color-text-on-default-background: var(--sg-text-color, var(--theme-code-foreground, var(--jp-content-font-color1, black)));\n",
              "  --sklearn-color-background: var(--sg-background-color, var(--theme-background, var(--jp-layout-color0, white)));\n",
              "  --sklearn-color-border-box: var(--sg-text-color, var(--theme-code-foreground, var(--jp-content-font-color1, black)));\n",
              "  --sklearn-color-icon: #696969;\n",
              "\n",
              "  @media (prefers-color-scheme: dark) {\n",
              "    /* Redefinition of color scheme for dark theme */\n",
              "    --sklearn-color-text-on-default-background: var(--sg-text-color, var(--theme-code-foreground, var(--jp-content-font-color1, white)));\n",
              "    --sklearn-color-background: var(--sg-background-color, var(--theme-background, var(--jp-layout-color0, #111)));\n",
              "    --sklearn-color-border-box: var(--sg-text-color, var(--theme-code-foreground, var(--jp-content-font-color1, white)));\n",
              "    --sklearn-color-icon: #878787;\n",
              "  }\n",
              "}\n",
              "\n",
              "#sk-container-id-1 {\n",
              "  color: var(--sklearn-color-text);\n",
              "}\n",
              "\n",
              "#sk-container-id-1 pre {\n",
              "  padding: 0;\n",
              "}\n",
              "\n",
              "#sk-container-id-1 input.sk-hidden--visually {\n",
              "  border: 0;\n",
              "  clip: rect(1px 1px 1px 1px);\n",
              "  clip: rect(1px, 1px, 1px, 1px);\n",
              "  height: 1px;\n",
              "  margin: -1px;\n",
              "  overflow: hidden;\n",
              "  padding: 0;\n",
              "  position: absolute;\n",
              "  width: 1px;\n",
              "}\n",
              "\n",
              "#sk-container-id-1 div.sk-dashed-wrapped {\n",
              "  border: 1px dashed var(--sklearn-color-line);\n",
              "  margin: 0 0.4em 0.5em 0.4em;\n",
              "  box-sizing: border-box;\n",
              "  padding-bottom: 0.4em;\n",
              "  background-color: var(--sklearn-color-background);\n",
              "}\n",
              "\n",
              "#sk-container-id-1 div.sk-container {\n",
              "  /* jupyter's `normalize.less` sets `[hidden] { display: none; }`\n",
              "     but bootstrap.min.css set `[hidden] { display: none !important; }`\n",
              "     so we also need the `!important` here to be able to override the\n",
              "     default hidden behavior on the sphinx rendered scikit-learn.org.\n",
              "     See: https://github.com/scikit-learn/scikit-learn/issues/21755 */\n",
              "  display: inline-block !important;\n",
              "  position: relative;\n",
              "}\n",
              "\n",
              "#sk-container-id-1 div.sk-text-repr-fallback {\n",
              "  display: none;\n",
              "}\n",
              "\n",
              "div.sk-parallel-item,\n",
              "div.sk-serial,\n",
              "div.sk-item {\n",
              "  /* draw centered vertical line to link estimators */\n",
              "  background-image: linear-gradient(var(--sklearn-color-text-on-default-background), var(--sklearn-color-text-on-default-background));\n",
              "  background-size: 2px 100%;\n",
              "  background-repeat: no-repeat;\n",
              "  background-position: center center;\n",
              "}\n",
              "\n",
              "/* Parallel-specific style estimator block */\n",
              "\n",
              "#sk-container-id-1 div.sk-parallel-item::after {\n",
              "  content: \"\";\n",
              "  width: 100%;\n",
              "  border-bottom: 2px solid var(--sklearn-color-text-on-default-background);\n",
              "  flex-grow: 1;\n",
              "}\n",
              "\n",
              "#sk-container-id-1 div.sk-parallel {\n",
              "  display: flex;\n",
              "  align-items: stretch;\n",
              "  justify-content: center;\n",
              "  background-color: var(--sklearn-color-background);\n",
              "  position: relative;\n",
              "}\n",
              "\n",
              "#sk-container-id-1 div.sk-parallel-item {\n",
              "  display: flex;\n",
              "  flex-direction: column;\n",
              "}\n",
              "\n",
              "#sk-container-id-1 div.sk-parallel-item:first-child::after {\n",
              "  align-self: flex-end;\n",
              "  width: 50%;\n",
              "}\n",
              "\n",
              "#sk-container-id-1 div.sk-parallel-item:last-child::after {\n",
              "  align-self: flex-start;\n",
              "  width: 50%;\n",
              "}\n",
              "\n",
              "#sk-container-id-1 div.sk-parallel-item:only-child::after {\n",
              "  width: 0;\n",
              "}\n",
              "\n",
              "/* Serial-specific style estimator block */\n",
              "\n",
              "#sk-container-id-1 div.sk-serial {\n",
              "  display: flex;\n",
              "  flex-direction: column;\n",
              "  align-items: center;\n",
              "  background-color: var(--sklearn-color-background);\n",
              "  padding-right: 1em;\n",
              "  padding-left: 1em;\n",
              "}\n",
              "\n",
              "\n",
              "/* Toggleable style: style used for estimator/Pipeline/ColumnTransformer box that is\n",
              "clickable and can be expanded/collapsed.\n",
              "- Pipeline and ColumnTransformer use this feature and define the default style\n",
              "- Estimators will overwrite some part of the style using the `sk-estimator` class\n",
              "*/\n",
              "\n",
              "/* Pipeline and ColumnTransformer style (default) */\n",
              "\n",
              "#sk-container-id-1 div.sk-toggleable {\n",
              "  /* Default theme specific background. It is overwritten whether we have a\n",
              "  specific estimator or a Pipeline/ColumnTransformer */\n",
              "  background-color: var(--sklearn-color-background);\n",
              "}\n",
              "\n",
              "/* Toggleable label */\n",
              "#sk-container-id-1 label.sk-toggleable__label {\n",
              "  cursor: pointer;\n",
              "  display: flex;\n",
              "  width: 100%;\n",
              "  margin-bottom: 0;\n",
              "  padding: 0.5em;\n",
              "  box-sizing: border-box;\n",
              "  text-align: center;\n",
              "  align-items: start;\n",
              "  justify-content: space-between;\n",
              "  gap: 0.5em;\n",
              "}\n",
              "\n",
              "#sk-container-id-1 label.sk-toggleable__label .caption {\n",
              "  font-size: 0.6rem;\n",
              "  font-weight: lighter;\n",
              "  color: var(--sklearn-color-text-muted);\n",
              "}\n",
              "\n",
              "#sk-container-id-1 label.sk-toggleable__label-arrow:before {\n",
              "  /* Arrow on the left of the label */\n",
              "  content: \"▸\";\n",
              "  float: left;\n",
              "  margin-right: 0.25em;\n",
              "  color: var(--sklearn-color-icon);\n",
              "}\n",
              "\n",
              "#sk-container-id-1 label.sk-toggleable__label-arrow:hover:before {\n",
              "  color: var(--sklearn-color-text);\n",
              "}\n",
              "\n",
              "/* Toggleable content - dropdown */\n",
              "\n",
              "#sk-container-id-1 div.sk-toggleable__content {\n",
              "  max-height: 0;\n",
              "  max-width: 0;\n",
              "  overflow: hidden;\n",
              "  text-align: left;\n",
              "  /* unfitted */\n",
              "  background-color: var(--sklearn-color-unfitted-level-0);\n",
              "}\n",
              "\n",
              "#sk-container-id-1 div.sk-toggleable__content.fitted {\n",
              "  /* fitted */\n",
              "  background-color: var(--sklearn-color-fitted-level-0);\n",
              "}\n",
              "\n",
              "#sk-container-id-1 div.sk-toggleable__content pre {\n",
              "  margin: 0.2em;\n",
              "  border-radius: 0.25em;\n",
              "  color: var(--sklearn-color-text);\n",
              "  /* unfitted */\n",
              "  background-color: var(--sklearn-color-unfitted-level-0);\n",
              "}\n",
              "\n",
              "#sk-container-id-1 div.sk-toggleable__content.fitted pre {\n",
              "  /* unfitted */\n",
              "  background-color: var(--sklearn-color-fitted-level-0);\n",
              "}\n",
              "\n",
              "#sk-container-id-1 input.sk-toggleable__control:checked~div.sk-toggleable__content {\n",
              "  /* Expand drop-down */\n",
              "  max-height: 200px;\n",
              "  max-width: 100%;\n",
              "  overflow: auto;\n",
              "}\n",
              "\n",
              "#sk-container-id-1 input.sk-toggleable__control:checked~label.sk-toggleable__label-arrow:before {\n",
              "  content: \"▾\";\n",
              "}\n",
              "\n",
              "/* Pipeline/ColumnTransformer-specific style */\n",
              "\n",
              "#sk-container-id-1 div.sk-label input.sk-toggleable__control:checked~label.sk-toggleable__label {\n",
              "  color: var(--sklearn-color-text);\n",
              "  background-color: var(--sklearn-color-unfitted-level-2);\n",
              "}\n",
              "\n",
              "#sk-container-id-1 div.sk-label.fitted input.sk-toggleable__control:checked~label.sk-toggleable__label {\n",
              "  background-color: var(--sklearn-color-fitted-level-2);\n",
              "}\n",
              "\n",
              "/* Estimator-specific style */\n",
              "\n",
              "/* Colorize estimator box */\n",
              "#sk-container-id-1 div.sk-estimator input.sk-toggleable__control:checked~label.sk-toggleable__label {\n",
              "  /* unfitted */\n",
              "  background-color: var(--sklearn-color-unfitted-level-2);\n",
              "}\n",
              "\n",
              "#sk-container-id-1 div.sk-estimator.fitted input.sk-toggleable__control:checked~label.sk-toggleable__label {\n",
              "  /* fitted */\n",
              "  background-color: var(--sklearn-color-fitted-level-2);\n",
              "}\n",
              "\n",
              "#sk-container-id-1 div.sk-label label.sk-toggleable__label,\n",
              "#sk-container-id-1 div.sk-label label {\n",
              "  /* The background is the default theme color */\n",
              "  color: var(--sklearn-color-text-on-default-background);\n",
              "}\n",
              "\n",
              "/* On hover, darken the color of the background */\n",
              "#sk-container-id-1 div.sk-label:hover label.sk-toggleable__label {\n",
              "  color: var(--sklearn-color-text);\n",
              "  background-color: var(--sklearn-color-unfitted-level-2);\n",
              "}\n",
              "\n",
              "/* Label box, darken color on hover, fitted */\n",
              "#sk-container-id-1 div.sk-label.fitted:hover label.sk-toggleable__label.fitted {\n",
              "  color: var(--sklearn-color-text);\n",
              "  background-color: var(--sklearn-color-fitted-level-2);\n",
              "}\n",
              "\n",
              "/* Estimator label */\n",
              "\n",
              "#sk-container-id-1 div.sk-label label {\n",
              "  font-family: monospace;\n",
              "  font-weight: bold;\n",
              "  display: inline-block;\n",
              "  line-height: 1.2em;\n",
              "}\n",
              "\n",
              "#sk-container-id-1 div.sk-label-container {\n",
              "  text-align: center;\n",
              "}\n",
              "\n",
              "/* Estimator-specific */\n",
              "#sk-container-id-1 div.sk-estimator {\n",
              "  font-family: monospace;\n",
              "  border: 1px dotted var(--sklearn-color-border-box);\n",
              "  border-radius: 0.25em;\n",
              "  box-sizing: border-box;\n",
              "  margin-bottom: 0.5em;\n",
              "  /* unfitted */\n",
              "  background-color: var(--sklearn-color-unfitted-level-0);\n",
              "}\n",
              "\n",
              "#sk-container-id-1 div.sk-estimator.fitted {\n",
              "  /* fitted */\n",
              "  background-color: var(--sklearn-color-fitted-level-0);\n",
              "}\n",
              "\n",
              "/* on hover */\n",
              "#sk-container-id-1 div.sk-estimator:hover {\n",
              "  /* unfitted */\n",
              "  background-color: var(--sklearn-color-unfitted-level-2);\n",
              "}\n",
              "\n",
              "#sk-container-id-1 div.sk-estimator.fitted:hover {\n",
              "  /* fitted */\n",
              "  background-color: var(--sklearn-color-fitted-level-2);\n",
              "}\n",
              "\n",
              "/* Specification for estimator info (e.g. \"i\" and \"?\") */\n",
              "\n",
              "/* Common style for \"i\" and \"?\" */\n",
              "\n",
              ".sk-estimator-doc-link,\n",
              "a:link.sk-estimator-doc-link,\n",
              "a:visited.sk-estimator-doc-link {\n",
              "  float: right;\n",
              "  font-size: smaller;\n",
              "  line-height: 1em;\n",
              "  font-family: monospace;\n",
              "  background-color: var(--sklearn-color-background);\n",
              "  border-radius: 1em;\n",
              "  height: 1em;\n",
              "  width: 1em;\n",
              "  text-decoration: none !important;\n",
              "  margin-left: 0.5em;\n",
              "  text-align: center;\n",
              "  /* unfitted */\n",
              "  border: var(--sklearn-color-unfitted-level-1) 1pt solid;\n",
              "  color: var(--sklearn-color-unfitted-level-1);\n",
              "}\n",
              "\n",
              ".sk-estimator-doc-link.fitted,\n",
              "a:link.sk-estimator-doc-link.fitted,\n",
              "a:visited.sk-estimator-doc-link.fitted {\n",
              "  /* fitted */\n",
              "  border: var(--sklearn-color-fitted-level-1) 1pt solid;\n",
              "  color: var(--sklearn-color-fitted-level-1);\n",
              "}\n",
              "\n",
              "/* On hover */\n",
              "div.sk-estimator:hover .sk-estimator-doc-link:hover,\n",
              ".sk-estimator-doc-link:hover,\n",
              "div.sk-label-container:hover .sk-estimator-doc-link:hover,\n",
              ".sk-estimator-doc-link:hover {\n",
              "  /* unfitted */\n",
              "  background-color: var(--sklearn-color-unfitted-level-3);\n",
              "  color: var(--sklearn-color-background);\n",
              "  text-decoration: none;\n",
              "}\n",
              "\n",
              "div.sk-estimator.fitted:hover .sk-estimator-doc-link.fitted:hover,\n",
              ".sk-estimator-doc-link.fitted:hover,\n",
              "div.sk-label-container:hover .sk-estimator-doc-link.fitted:hover,\n",
              ".sk-estimator-doc-link.fitted:hover {\n",
              "  /* fitted */\n",
              "  background-color: var(--sklearn-color-fitted-level-3);\n",
              "  color: var(--sklearn-color-background);\n",
              "  text-decoration: none;\n",
              "}\n",
              "\n",
              "/* Span, style for the box shown on hovering the info icon */\n",
              ".sk-estimator-doc-link span {\n",
              "  display: none;\n",
              "  z-index: 9999;\n",
              "  position: relative;\n",
              "  font-weight: normal;\n",
              "  right: .2ex;\n",
              "  padding: .5ex;\n",
              "  margin: .5ex;\n",
              "  width: min-content;\n",
              "  min-width: 20ex;\n",
              "  max-width: 50ex;\n",
              "  color: var(--sklearn-color-text);\n",
              "  box-shadow: 2pt 2pt 4pt #999;\n",
              "  /* unfitted */\n",
              "  background: var(--sklearn-color-unfitted-level-0);\n",
              "  border: .5pt solid var(--sklearn-color-unfitted-level-3);\n",
              "}\n",
              "\n",
              ".sk-estimator-doc-link.fitted span {\n",
              "  /* fitted */\n",
              "  background: var(--sklearn-color-fitted-level-0);\n",
              "  border: var(--sklearn-color-fitted-level-3);\n",
              "}\n",
              "\n",
              ".sk-estimator-doc-link:hover span {\n",
              "  display: block;\n",
              "}\n",
              "\n",
              "/* \"?\"-specific style due to the `<a>` HTML tag */\n",
              "\n",
              "#sk-container-id-1 a.estimator_doc_link {\n",
              "  float: right;\n",
              "  font-size: 1rem;\n",
              "  line-height: 1em;\n",
              "  font-family: monospace;\n",
              "  background-color: var(--sklearn-color-background);\n",
              "  border-radius: 1rem;\n",
              "  height: 1rem;\n",
              "  width: 1rem;\n",
              "  text-decoration: none;\n",
              "  /* unfitted */\n",
              "  color: var(--sklearn-color-unfitted-level-1);\n",
              "  border: var(--sklearn-color-unfitted-level-1) 1pt solid;\n",
              "}\n",
              "\n",
              "#sk-container-id-1 a.estimator_doc_link.fitted {\n",
              "  /* fitted */\n",
              "  border: var(--sklearn-color-fitted-level-1) 1pt solid;\n",
              "  color: var(--sklearn-color-fitted-level-1);\n",
              "}\n",
              "\n",
              "/* On hover */\n",
              "#sk-container-id-1 a.estimator_doc_link:hover {\n",
              "  /* unfitted */\n",
              "  background-color: var(--sklearn-color-unfitted-level-3);\n",
              "  color: var(--sklearn-color-background);\n",
              "  text-decoration: none;\n",
              "}\n",
              "\n",
              "#sk-container-id-1 a.estimator_doc_link.fitted:hover {\n",
              "  /* fitted */\n",
              "  background-color: var(--sklearn-color-fitted-level-3);\n",
              "}\n",
              "</style><div id=\"sk-container-id-1\" class=\"sk-top-container\"><div class=\"sk-text-repr-fallback\"><pre>LogisticRegression()</pre><b>In a Jupyter environment, please rerun this cell to show the HTML representation or trust the notebook. <br />On GitHub, the HTML representation is unable to render, please try loading this page with nbviewer.org.</b></div><div class=\"sk-container\" hidden><div class=\"sk-item\"><div class=\"sk-estimator fitted sk-toggleable\"><input class=\"sk-toggleable__control sk-hidden--visually\" id=\"sk-estimator-id-1\" type=\"checkbox\" checked><label for=\"sk-estimator-id-1\" class=\"sk-toggleable__label fitted sk-toggleable__label-arrow\"><div><div>LogisticRegression</div></div><div><a class=\"sk-estimator-doc-link fitted\" rel=\"noreferrer\" target=\"_blank\" href=\"https://scikit-learn.org/1.6/modules/generated/sklearn.linear_model.LogisticRegression.html\">?<span>Documentation for LogisticRegression</span></a><span class=\"sk-estimator-doc-link fitted\">i<span>Fitted</span></span></div></label><div class=\"sk-toggleable__content fitted\"><pre>LogisticRegression()</pre></div> </div></div></div></div>"
            ]
          },
          "metadata": {},
          "execution_count": 17
        }
      ]
    },
    {
      "cell_type": "markdown",
      "source": [
        "Predict Tests"
      ],
      "metadata": {
        "id": "Kxya0MsEnz0H"
      }
    },
    {
      "cell_type": "code",
      "source": [
        "y_pred = model.predict(x_test);"
      ],
      "metadata": {
        "id": "BmbUR5Q0nyki"
      },
      "execution_count": 18,
      "outputs": []
    },
    {
      "cell_type": "markdown",
      "source": [
        "Print Accuracy"
      ],
      "metadata": {
        "id": "BQqI1OrjoH9Y"
      }
    },
    {
      "cell_type": "code",
      "source": [
        "from sklearn.metrics import accuracy_score\n",
        "print(\"Accuracy:\", accuracy_score(y_test, y_pred))"
      ],
      "metadata": {
        "colab": {
          "base_uri": "https://localhost:8080/"
        },
        "id": "j7XOvZnwoLFe",
        "outputId": "4d74fcea-f87a-45db-c0f9-6504443dfeba"
      },
      "execution_count": 19,
      "outputs": [
        {
          "output_type": "stream",
          "name": "stdout",
          "text": [
            "Accuracy: 0.9666666666666667\n"
          ]
        }
      ]
    },
    {
      "cell_type": "markdown",
      "source": [
        "Confusion Matrix"
      ],
      "metadata": {
        "id": "tePgrwaDolTO"
      }
    },
    {
      "cell_type": "code",
      "source": [
        "from sklearn.metrics import confusion_matrix, ConfusionMatrixDisplay\n",
        "cm = confusion_matrix(y_test, y_pred)\n",
        "print(cm)"
      ],
      "metadata": {
        "colab": {
          "base_uri": "https://localhost:8080/"
        },
        "id": "vCvnSg8loTHO",
        "outputId": "a0a4a297-e73f-447f-9fe6-0d7effe72715"
      },
      "execution_count": 20,
      "outputs": [
        {
          "output_type": "stream",
          "name": "stdout",
          "text": [
            "[[10  0  0]\n",
            " [ 0  7  0]\n",
            " [ 0  1 12]]\n"
          ]
        }
      ]
    },
    {
      "cell_type": "markdown",
      "source": [
        "Visual Confusion Matrix"
      ],
      "metadata": {
        "id": "4IU4q693ox0x"
      }
    },
    {
      "cell_type": "code",
      "source": [
        "disp = ConfusionMatrixDisplay(confusion_matrix=cm)\n",
        "disp.plot()"
      ],
      "metadata": {
        "colab": {
          "base_uri": "https://localhost:8080/",
          "height": 473
        },
        "id": "j3CYnmGGov_r",
        "outputId": "d23ca11b-3490-4a44-a427-d5084bcdf730"
      },
      "execution_count": 21,
      "outputs": [
        {
          "output_type": "execute_result",
          "data": {
            "text/plain": [
              "<sklearn.metrics._plot.confusion_matrix.ConfusionMatrixDisplay at 0x7efb6ce030d0>"
            ]
          },
          "metadata": {},
          "execution_count": 21
        },
        {
          "output_type": "display_data",
          "data": {
            "text/plain": [
              "<Figure size 640x480 with 2 Axes>"
            ],
            "image/png": "[encoded data removed]"
          },
          "metadata": {}
        }
      ]
    },
    {
      "cell_type": "markdown",
      "source": [
        "#Perceptron"
      ],
      "metadata": {
        "id": "8pQ4LJSyuORe"
      }
    },
    {
      "cell_type": "markdown",
      "source": [
        "Reload Dataset"
      ],
      "metadata": {
        "id": "XZ9MclSFvC5R"
      }
    },
    {
      "cell_type": "code",
      "source": [
        "from sklearn import datasets\n",
        "iris_dataset = datasets.load_iris()\n",
        "X = iris_dataset.data\n",
        "y = iris_dataset.target\n",
        "X.shape, y.shape"
      ],
      "metadata": {
        "colab": {
          "base_uri": "https://localhost:8080/"
        },
        "id": "AjhDfEAavEQV",
        "outputId": "a7a517dc-e5d1-44ec-e290-24790d863138"
      },
      "execution_count": 22,
      "outputs": [
        {
          "output_type": "execute_result",
          "data": {
            "text/plain": [
              "((150, 4), (150,))"
            ]
          },
          "metadata": {},
          "execution_count": 22
        }
      ]
    },
    {
      "cell_type": "markdown",
      "source": [
        "Split Train Test Using SKlearn"
      ],
      "metadata": {
        "id": "xQKNYO5Mvz1D"
      }
    },
    {
      "cell_type": "code",
      "source": [
        "from sklearn.model_selection import train_test_split\n",
        "X_train, X_test, y_train, y_test = None, None, None, None\n",
        "X_train, X_test, y_train, y_test = train_test_split(X, y, train_size=0.8, random_state=888)"
      ],
      "metadata": {
        "id": "Ai4dGgAvvE2L"
      },
      "execution_count": 23,
      "outputs": []
    },
    {
      "cell_type": "markdown",
      "source": [
        "Use Standard Scaler (OPTIONAL)"
      ],
      "metadata": {
        "id": "uriJAanHv5Am"
      }
    },
    {
      "cell_type": "code",
      "source": [],
      "metadata": {
        "id": "Y6zl47T4wD3I"
      },
      "execution_count": 23,
      "outputs": []
    },
    {
      "cell_type": "markdown",
      "source": [
        "Get Predicted Class from Logits (Last Layer)"
      ],
      "metadata": {
        "id": "UB3CLRYHwPfl"
      }
    },
    {
      "cell_type": "code",
      "source": [
        "#returns (num_samples, num_class) vector\n",
        "def get_logits(x, W, b):\n",
        "  ##Your code here\n",
        "  return x @ W.T + b;"
      ],
      "metadata": {
        "id": "SBJIPJXjU1Xj"
      },
      "execution_count": 24,
      "outputs": []
    },
    {
      "cell_type": "code",
      "source": [
        "#returns (num_samples,) vector\n",
        "#returns predicted class for each sample\n",
        "def get_predict(x, W, b):\n",
        "  A = get_logits(x, W, b)\n",
        "  return np.argmax(get_logits(x, W, b), axis=1)"
      ],
      "metadata": {
        "id": "YX-cqhFAVC0I"
      },
      "execution_count": 25,
      "outputs": []
    },
    {
      "cell_type": "code",
      "source": [
        "def perceptron_train(x_train, y_train, n_classes, n_iteration, alpha):\n",
        "  ## Your Code Starts Here ##\n",
        "\n",
        "  K = n_classes\n",
        "  W = np.zeros((K, x_train.shape[1]))\n",
        "  b = np.zeros(K)\n",
        "  N = x_train.shape[0]\n",
        "\n",
        "\n",
        "  for t in range(n_iters):\n",
        "    for Xi, yi in zip(X_train, y_train):\n",
        "      pred = get_predict(Xi[np.newaxis, :], W, b)\n",
        "\n",
        "      if yi != pred:\n",
        "        W[yi] += alpha * Xi\n",
        "        W[yi] += alpha\n",
        "        W[pred] -= alpha * Xi\n",
        "        W[pred] -= alpha\n",
        "  return W, b"
      ],
      "metadata": {
        "id": "dvZi2DwyUAXa"
      },
      "execution_count": 26,
      "outputs": []
    },
    {
      "cell_type": "code",
      "source": [
        "##########################\n",
        "# Run Model\n",
        "#########################\n",
        "# if you implement the code efficiently it should not take more than\n",
        "# a second to run!\n",
        "n_classes = 3\n",
        "n_iters = 1000\n",
        "\n",
        "alpha = 0.01\n",
        "\n",
        "W, b = perceptron_train(\n",
        "    X_train,\n",
        "    y_train,\n",
        "    n_classes,\n",
        "    n_iters,\n",
        "    alpha\n",
        ")"
      ],
      "metadata": {
        "id": "eYa0GLatWJrI"
      },
      "execution_count": 27,
      "outputs": []
    },
    {
      "cell_type": "markdown",
      "source": [
        "Predict Test Data"
      ],
      "metadata": {
        "id": "S1duhsz9d25T"
      }
    },
    {
      "cell_type": "code",
      "source": [
        "y_hat = get_predict(X_test, W, b)\n",
        "y_hat"
      ],
      "metadata": {
        "colab": {
          "base_uri": "https://localhost:8080/"
        },
        "id": "j-QlLlUgXH1m",
        "outputId": "aff3ff17-8195-408b-9e5a-2a217b55849b"
      },
      "execution_count": 28,
      "outputs": [
        {
          "output_type": "execute_result",
          "data": {
            "text/plain": [
              "array([1, 2, 2, 2, 2, 1, 1, 2, 1, 1, 0, 1, 0, 1, 1, 1, 1, 0, 0, 0, 2, 2,\n",
              "       0, 1, 2, 2, 1, 0, 0, 0])"
            ]
          },
          "metadata": {},
          "execution_count": 28
        }
      ]
    },
    {
      "cell_type": "markdown",
      "source": [
        "Accuracy Test"
      ],
      "metadata": {
        "id": "lndV29EHd6da"
      }
    },
    {
      "cell_type": "code",
      "source": [
        "acc(y_hat, y_test)"
      ],
      "metadata": {
        "colab": {
          "base_uri": "https://localhost:8080/"
        },
        "id": "by3-zGJxc0GI",
        "outputId": "73cd4b30-4cc6-4422-cb2f-62c5d69a7bd8"
      },
      "execution_count": 29,
      "outputs": [
        {
          "output_type": "execute_result",
          "data": {
            "text/plain": [
              "np.float64(0.9333333333333333)"
            ]
          },
          "metadata": {},
          "execution_count": 29
        }
      ]
    },
    {
      "cell_type": "markdown",
      "source": [
        "Confusion Matrix"
      ],
      "metadata": {
        "id": "8OZqR3_6d-Ri"
      }
    },
    {
      "cell_type": "code",
      "source": [
        "from sklearn.metrics import confusion_matrix, ConfusionMatrixDisplay\n",
        "cm = confusion_matrix(y_test, y_hat)\n",
        "print(cm)"
      ],
      "metadata": {
        "colab": {
          "base_uri": "https://localhost:8080/"
        },
        "id": "ZNTISkLydDzv",
        "outputId": "b631f548-0c3a-4648-a39a-e541c3332fc5"
      },
      "execution_count": 30,
      "outputs": [
        {
          "output_type": "stream",
          "name": "stdout",
          "text": [
            "[[ 9  0  0]\n",
            " [ 0 11  1]\n",
            " [ 0  1  8]]\n"
          ]
        }
      ]
    }
  ]
}